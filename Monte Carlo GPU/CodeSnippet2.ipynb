{
 "cells": [
  {
   "cell_type": "code",
   "execution_count": 1,
   "metadata": {
    "collapsed": true,
    "pycharm": {
     "is_executing": false
    }
   },
   "outputs": [
    {
     "name": "stderr",
     "text": [
      "C:\\Users\\Ali\\Anaconda3\\lib\\site-packages\\ipykernel_launcher.py:30: ComplexWarning: Casting complex values to real discards the imaginary part\n"
     ],
     "output_type": "stream"
    },
    {
     "data": {
      "text/plain": "<Figure size 432x288 with 1 Axes>",
      "image/png": "[encoded data removed]"
     },
     "metadata": {
      "needs_background": "light"
     },
     "output_type": "display_data"
    }
   ],
   "source": [
    "import numpy as np\n",
    "from numpy import genfromtxt\n",
    "import matplotlib.pyplot as plt\n",
    "import cmath\n",
    "%matplotlib inline\n",
    "pdivs=100\n",
    "ddivs=64\n",
    "s1 = genfromtxt('s1_pm_64.txt', delimiter=',')\n",
    "s2 = genfromtxt('s2_pm_64.txt', delimiter=',')\n",
    "m11 = genfromtxt('m11_pm_64.txt', delimiter=',')\n",
    "m12 = genfromtxt('m12_pm_64.txt', delimiter=',')\n",
    "temp = 1j * s1[:, 2]\n",
    "temp += s1[:, 1]\n",
    "s1 = temp\n",
    "temp = 1j * s2[:, 2]\n",
    "temp += s2[:, 1]\n",
    "s2 = temp\n",
    "\n",
    "m11 = m11[:, 1]\n",
    "m12 = m12[:, 1]\n",
    "theta_s=np.linspace(0,np.pi,ddivs)\n",
    "phi_s=np.linspace(0,2*np.pi,ddivs)\n",
    "p=np.zeros((ddivs,ddivs))\n",
    "s=np.zeros(4)\n",
    "s[0]=1\n",
    "s[1]=-0.519333\n",
    "s[2]=0.844785\n",
    "for i, theta in enumerate(theta_s):\n",
    "    for j,phi in enumerate(phi_s):\n",
    "        p[i,j]=m11[i]*s[0]+m12[i]*(s[1]*cmath.cos(2*j*2*cmath.pi/ddivs)+s[2]*cmath.sin(2*j*2*cmath.pi/1000))\n",
    "\n",
    "\n",
    "        \n",
    "p_theta=np.sum(p,axis=1)\n",
    "p_theta/=np.sum(p_theta)\n",
    "p_phi=np.sum(p,axis=0)\n",
    "p_phi/=np.sum(p_phi)\n",
    "p_theta_cs=np.cumsum(p_theta)\n",
    "p_phi_cs=np.cumsum(p_phi)\n",
    "inverse_p_theta=np.zeros(pdivs)\n",
    "inverse_p_phi=np.zeros(pdivs)\n",
    "\n",
    "inverse_p_theta[int(p_theta_cs[0]*(pdivs-1))]=0\n",
    "for i in range(1,len(p_theta_cs)):    \n",
    "    idx = int(p_theta_cs[i]*(pdivs-1))\n",
    "    j=i-1\n",
    "    while idx == int(p_theta_cs[j]*(pdivs-1)):\n",
    "        j-=1\n",
    "    inverse_p_theta[idx]=j+1\n",
    "    \n",
    "for i, el in enumerate(inverse_p_theta):\n",
    "    if el ==0 and i>0:\n",
    "        inverse_p_theta[i]=inverse_p_theta[i-1]    \n",
    "        \n",
    "        \n",
    "inverse_p_phi[int(p_theta_cs[0]*(pdivs-1))]=0\n",
    "for i in range(1,len(p_theta_cs)):    \n",
    "    idx = int(p_phi_cs[i]*(pdivs-1))\n",
    "    j=i-1\n",
    "    while idx == int(p_phi_cs[j]*(pdivs-1)):\n",
    "        j-=1\n",
    "    inverse_p_phi[idx]=j+1\n",
    "    \n",
    "for i, el in enumerate(inverse_p_phi):\n",
    "    if el ==0 and i>0:\n",
    "        inverse_p_phi[i]=inverse_p_phi[i-1] \n",
    "        \n",
    "rand=np.array(np.random.random(1000)*(pdivs-1),dtype=np.int)\n",
    "plt.hist(inverse_p_phi[rand],300)\n",
    "plt.show()\n",
    "#print(m11)"
   ]
  },
  {
   "cell_type": "code",
   "execution_count": 12,
   "outputs": [
    {
     "data": {
      "text/plain": "<Figure size 432x288 with 1 Axes>",
      "image/png": "[encoded data removed]"
     },
     "metadata": {
      "needs_background": "light"
     },
     "output_type": "display_data"
    }
   ],
   "source": [
    "plt.plot(p_phi)\n",
    "plt.show()\n",
    "\n"
   ],
   "metadata": {
    "collapsed": false,
    "pycharm": {
     "name": "#%%\n",
     "is_executing": false
    }
   }
  },
  {
   "cell_type": "code",
   "execution_count": 3,
   "outputs": [
    {
     "data": {
      "text/plain": "array([ 0.,  0.,  0.,  0.,  0.,  0.,  0.,  0.,  0.,  0.,  1.,  1.,  2.,\n        3.,  4.,  9., 10., 12., 18., 20., 21., 23., 26., 29., 31., 33.,\n       34., 35., 37., 39., 41., 43., 43., 44., 45., 46., 47., 47., 48.,\n       49., 50., 51., 52., 53., 54., 55., 55., 56., 56., 57., 57., 58.,\n       58., 58., 59., 59., 60., 60., 60., 61., 61., 61., 61., 61., 61.,\n       61., 61., 61., 62., 62., 62., 62., 62., 62., 62., 62., 62., 62.,\n       62., 62., 62., 62., 62., 62., 62., 62., 62., 62., 62., 62., 62.,\n       62., 62., 62., 62., 62., 62., 62., 63., 63.])"
     },
     "metadata": {},
     "output_type": "execute_result",
     "execution_count": 3
    }
   ],
   "source": [
    "inverse_p_theta\n",
    "\n"
   ],
   "metadata": {
    "collapsed": false,
    "pycharm": {
     "name": "#%%\n",
     "is_executing": false
    }
   }
  },
  {
   "cell_type": "code",
   "execution_count": 3,
   "outputs": [
    {
     "data": {
      "text/plain": "<Figure size 432x288 with 1 Axes>",
      "image/png": "[encoded data removed]"
     },
     "metadata": {
      "needs_background": "light"
     },
     "output_type": "display_data"
    }
   ],
   "source": [
    "neg=inverse_p_theta[:-1]-inverse_p_theta[1:]\n",
    "pos=inverse_p_theta[1:]-inverse_p_theta[:-1]\n",
    "for i, el in enumerate(inverse_p_theta):\n",
    "    if el ==0 and i>0:\n",
    "        inverse_p_theta[i]=inverse_p_theta[i-1]\n",
    "plt.plot(inverse_p_theta)\n",
    "plt.show()"
   ],
   "metadata": {
    "collapsed": false,
    "pycharm": {
     "name": "#%%\n",
     "is_executing": false
    }
   }
  },
  {
   "cell_type": "code",
   "execution_count": 4,
   "outputs": [
    {
     "name": "stdout",
     "text": [
      "sum 4494639.273544542\nrand 64\nrand1 13\n"
     ],
     "output_type": "stream"
    }
   ],
   "source": [
    "import numpy as np\n",
    "\n",
    "ddivs=64\n",
    "s1 = genfromtxt('s1_pm_64.txt', delimiter=',')\n",
    "s2 = genfromtxt('s2_pm_64.txt', delimiter=',')\n",
    "s11 = genfromtxt('m11_pm_64.txt', delimiter=',')\n",
    "s12 = genfromtxt('m12_pm_64.txt', delimiter=',')\n",
    "temp = 1j * s1[:, 2]\n",
    "temp += s1[:, 1]\n",
    "s1 = temp\n",
    "temp = 1j * s2[:, 2]\n",
    "temp += s2[:, 1]\n",
    "s2 = temp\n",
    "\n",
    "s11 = s11[:, 1]\n",
    "s12 = s12[:, 1]\n",
    "stokes=np.zeros(4)\n",
    "pf=np.zeros((ddivs,ddivs))\n",
    "pf_theta=np.zeros(ddivs)\n",
    "pf_phi=np.zeros(ddivs)\n",
    "stokes[0]=1\n",
    "stokes[1]=-0.8\n",
    "stokes[2]=0.5\n",
    "\n",
    "for i in range(ddivs):\n",
    "    for j in range(ddivs):\n",
    "        # theta = i * cmath.pi / ddivs\n",
    "        # phi = j * cmath.pi * 2 / ddivs\n",
    "        pf[i, j] = (s11[i] * stokes[0] + s12[i] * (\n",
    "                stokes[1] * cmath.cos(2 * j * 2 * cmath.pi / ddivs) + stokes[2] * cmath.sin(\n",
    "            2 * j * 2 * cmath.pi / ddivs))).real\n",
    "for i in range(ddivs):\n",
    "    pf_theta[i] = 0\n",
    "    pf_phi[i] = 0\n",
    "for i in range(ddivs):\n",
    "    for j in range(ddivs):\n",
    "        pf_theta[i] += pf[i, j]\n",
    "        pf_phi[j] += pf[i, j]\n",
    "\n",
    "pf_theta_sum = 0\n",
    "pf_phi_sum = 0\n",
    "for i in range(ddivs):\n",
    "    pf_theta_sum += pf_theta[i]\n",
    "    pf_phi_sum += pf_phi[i]\n",
    "\n",
    "for i in range(ddivs):\n",
    "    pf_theta[i] /= pf_theta_sum\n",
    "    pf_phi[i] /= pf_phi_sum\n",
    "\n",
    "p_theta_cs[0] = pf_theta[0]\n",
    "p_phi_cs[0] = pf_phi[0]\n",
    "for i in range(1, ddivs):\n",
    "    p_theta_cs[i] = p_theta_cs[i - 1] + pf_theta[i]\n",
    "    p_phi_cs[i] = p_phi_cs[i - 1] + pf_phi[i]\n",
    "    if p_theta_cs[i]>1:\n",
    "        p_theta_cs[i]=1\n",
    "    if p_phi_cs[i]>1:\n",
    "        p_phi_cs[i]=1\n",
    "\n",
    "for i in range(pdivs):\n",
    "    inverse_p_theta[i]=0\n",
    "    inverse_p_phi[i]=0\n",
    "\n",
    "inverse_p_theta[int(p_theta_cs[0] * (pdivs - 1))] = 0\n",
    "inverse_p_phi[int(p_phi_cs[0] * (pdivs - 1))] = 0\n",
    "for i in range(1,ddivs):\n",
    "    idx = int(p_theta_cs[i] * (pdivs - 1))\n",
    "    j = i - 1\n",
    "    while idx == int(p_theta_cs[j] * (pdivs - 1)):\n",
    "        j -= 1\n",
    "    inverse_p_theta[idx] = j + 1\n",
    "\n",
    "for i in range(1,ddivs):\n",
    "    idx = int(p_theta_cs[i] * (pdivs - 1))\n",
    "    j = i - 1\n",
    "    while idx == int(p_theta_cs[j] * (pdivs - 1)):\n",
    "        j -= 1\n",
    "    inverse_p_phi[idx] = j + 1\n",
    "\n",
    "for i in range(pdivs):\n",
    "    el=inverse_p_theta[i]\n",
    "    if el == 0 and i > 0:\n",
    "        inverse_p_theta[i] = inverse_p_theta[i - 1]\n",
    "\n",
    "for i in range(pdivs):\n",
    "    el = inverse_p_phi[i]\n",
    "    if el == 0 and i > 0:\n",
    "        inverse_p_phi[i] = inverse_p_phi[i - 1]\n",
    "\n",
    "\n",
    "#print('int(rand_0[0] * (pdivs - 1)',int(rand_0[0] * (pdivs - 1)))\n",
    "\n",
    "\n",
    "print('sum',pf_phi_sum)\n",
    "print('rand',int(np.random.random() * (pdivs - 1)))\n",
    "print('rand1', int(np.random.random()* (pdivs - 1)))\n",
    "# for i in range(pdivs):\n",
    "#     print(i, 'inv', inverse_p_theta[i])\n",
    "\n",
    "theta_out = inverse_p_theta[int(np.random.random() * (pdivs - 1))] * cmath.pi / ddivs\n",
    "phi_out = inverse_p_phi[int(np.random.random() * (pdivs - 1))] * 2 * cmath.pi / ddivs"
   ],
   "metadata": {
    "collapsed": false,
    "pycharm": {
     "name": "#%%\n",
     "is_executing": false
    }
   }
  },
  {
   "cell_type": "code",
   "execution_count": 5,
   "outputs": [
    {
     "data": {
      "text/plain": "<Figure size 432x288 with 1 Axes>",
      "image/png": "[encoded data removed]"
     },
     "metadata": {
      "needs_background": "light"
     },
     "output_type": "display_data"
    }
   ],
   "source": [
    "plt.plot(inverse_p_theta)\n",
    "plt.show()"
   ],
   "metadata": {
    "collapsed": false,
    "pycharm": {
     "name": "#%%\n",
     "is_executing": false
    }
   }
  },
  {
   "cell_type": "code",
   "execution_count": 1,
   "outputs": [
    {
     "data": {
      "text/plain": "HBox(children=(IntProgress(value=0, max=3), HTML(value='')))",
      "application/vnd.jupyter.widget-view+json": {
       "version_major": 2,
       "version_minor": 0,
       "model_id": "0493069896684c56a1c6ba1e69442fcf"
      }
     },
     "metadata": {},
     "output_type": "display_data"
    },
    {
     "data": {
      "text/plain": "HBox(children=(IntProgress(value=0, max=5), HTML(value='')))",
      "application/vnd.jupyter.widget-view+json": {
       "version_major": 2,
       "version_minor": 0,
       "model_id": "95b786ffdd4e4346931b3c16c196b111"
      }
     },
     "metadata": {},
     "output_type": "display_data"
    },
    {
     "name": "stdout",
     "text": [
      "0",
      " ",
      " : ",
      " ",
      "0",
      "\n",
      "0",
      " ",
      " : ",
      " ",
      "1",
      "\n",
      "0",
      " ",
      " : ",
      " ",
      "2",
      "\n",
      "0",
      " ",
      " : ",
      " ",
      "3",
      "\n",
      "0",
      " ",
      " : ",
      " ",
      "4",
      "\n",
      "\n",
      "1",
      " ",
      " : ",
      " ",
      "0",
      "\n",
      "1",
      " ",
      " : ",
      " ",
      "1",
      "\n",
      "1",
      " ",
      " : ",
      " ",
      "2",
      "\n",
      "1",
      " ",
      " : ",
      " ",
      "3",
      "\n",
      "1",
      " ",
      " : ",
      " ",
      "4",
      "\n",
      "\n",
      "2",
      " ",
      " : ",
      " ",
      "0",
      "\n",
      "2",
      " ",
      " : ",
      " ",
      "1",
      "\n",
      "2",
      " ",
      " : ",
      " ",
      "2",
      "\n",
      "2",
      " ",
      " : ",
      " ",
      "3",
      "\n",
      "2",
      " ",
      " : ",
      " ",
      "4",
      "\n",
      "\n",
      "\n",
      "Done!",
      "\n"
     ],
     "output_type": "stream"
    },
    {
     "data": {
      "text/plain": "HBox(children=(IntProgress(value=0, max=5), HTML(value='')))",
      "application/vnd.jupyter.widget-view+json": {
       "version_major": 2,
       "version_minor": 0,
       "model_id": "147516244cd44a909ae8adf7477c2990"
      }
     },
     "metadata": {},
     "output_type": "display_data"
    },
    {
     "data": {
      "text/plain": "HBox(children=(IntProgress(value=0, max=5), HTML(value='')))",
      "application/vnd.jupyter.widget-view+json": {
       "version_major": 2,
       "version_minor": 0,
       "model_id": "9ab751c5fbb847a58b842ac9c29163ce"
      }
     },
     "metadata": {},
     "output_type": "display_data"
    }
   ],
   "source": [
    "from time import sleep\n",
    "from tqdm import tqdm_notebook\n",
    "for i in tqdm_notebook(range(3)):\n",
    "    for j in tqdm_notebook(range(5)):\n",
    "        sleep(0.1)\n",
    "        print(i,\" : \", j)\n",
    "\n",
    "print(\"Done!\")\n",
    "\n"
   ],
   "metadata": {
    "collapsed": false,
    "pycharm": {
     "name": "#%%\n",
     "is_executing": false
    }
   }
  },
  {
   "cell_type": "code",
   "execution_count": 2,
   "outputs": [
    {
     "name": "stdout",
     "text": [
      "(-0.7853981633974483+0j)",
      "\n"
     ],
     "output_type": "stream"
    }
   ],
   "source": [
    "import cmath\n",
    "\n",
    "print(cmath.atan(-1))\n",
    "\n"
   ],
   "metadata": {
    "collapsed": false,
    "pycharm": {
     "name": "#%%\n",
     "is_executing": false
    }
   }
  },
  {
   "cell_type": "code",
   "execution_count": 6,
   "outputs": [
    {
     "name": "stdout",
     "text": [
      "(360, 3)\n"
     ],
     "output_type": "stream"
    }
   ],
   "source": [
    "import numpy as np\n",
    "from numpy import genfromtxt\n",
    "import matplotlib.pyplot as plt\n",
    "import cmath\n",
    "%matplotlib inline\n",
    "pdivs=100\n",
    "ddivs=64\n",
    "s1 = genfromtxt('s1_pm_360.txt', delimiter=',')\n",
    "print(s1.shape)\n"
   ],
   "metadata": {
    "collapsed": false,
    "pycharm": {
     "name": "#%%\n",
     "is_executing": false
    }
   }
  },
  {
   "cell_type": "code",
   "execution_count": 1,
   "outputs": [
    {
     "data": {
      "text/plain": "array([[0.19853642, 0.53231133, 0.34403922],\n       [0.43908423, 0.01878544, 0.66305308]])"
     },
     "metadata": {},
     "output_type": "execute_result",
     "execution_count": 1
    }
   ],
   "source": [
    "import numpy as np\n",
    "\n",
    "np.random.random((2,3))\n",
    "\n"
   ],
   "metadata": {
    "collapsed": false,
    "pycharm": {
     "name": "#%%\n",
     "is_executing": false
    }
   }
  },
  {
   "cell_type": "code",
   "execution_count": null,
   "outputs": [],
   "source": [
    "\n"
   ],
   "metadata": {
    "collapsed": false,
    "pycharm": {
     "name": "#%%\n"
    }
   }
  }
 ],
 "metadata": {
  "kernelspec": {
   "display_name": "Python 3",
   "language": "python",
   "name": "python3"
  },
  "language_info": {
   "codemirror_mode": {
    "name": "ipython",
    "version": 2
   },
   "file_extension": ".py",
   "mimetype": "text/x-python",
   "name": "python",
   "nbconvert_exporter": "python",
   "pygments_lexer": "ipython2",
   "version": "2.7.6"
  },
  "pycharm": {
   "stem_cell": {
    "cell_type": "raw",
    "source": [],
    "metadata": {
     "collapsed": false
    }
   }
  }
 },
 "nbformat": 4,
 "nbformat_minor": 0
}