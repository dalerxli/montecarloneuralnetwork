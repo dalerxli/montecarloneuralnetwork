{
 "cells": [
  {
   "cell_type": "code",
   "execution_count": 1,
   "metadata": {
    "collapsed": true,
    "pycharm": {
     "is_executing": false
    }
   },
   "outputs": [
    {
     "traceback": [
      "\u001b[1;31m---------------------------------------------------------------------------\u001b[0m",
      "\u001b[1;31mValueError\u001b[0m                                Traceback (most recent call last)",
      "\u001b[1;32m<ipython-input-1-4fba00c53120>\u001b[0m in \u001b[0;36m<module>\u001b[1;34m\u001b[0m\n\u001b[0;32m     46\u001b[0m \u001b[0mr_te_total\u001b[0m \u001b[1;33m=\u001b[0m \u001b[1;33m(\u001b[0m\u001b[0mr_te\u001b[0m\u001b[1;33m+\u001b[0m\u001b[0mr_hs\u001b[0m\u001b[1;33m*\u001b[0m\u001b[0mnp\u001b[0m\u001b[1;33m.\u001b[0m\u001b[0mexp\u001b[0m\u001b[1;33m(\u001b[0m\u001b[1;36m2j\u001b[0m\u001b[1;33m*\u001b[0m\u001b[0mn_m\u001b[0m\u001b[1;33m*\u001b[0m\u001b[0mk0\u001b[0m\u001b[1;33m*\u001b[0m\u001b[0mnp\u001b[0m\u001b[1;33m.\u001b[0m\u001b[0mcos\u001b[0m\u001b[1;33m(\u001b[0m\u001b[0mtheta_m\u001b[0m\u001b[1;33m)\u001b[0m\u001b[1;33m*\u001b[0m\u001b[0ma\u001b[0m\u001b[1;33m)\u001b[0m\u001b[1;33m)\u001b[0m\u001b[1;33m/\u001b[0m\u001b[1;33m(\u001b[0m\u001b[1;36m1\u001b[0m\u001b[1;33m+\u001b[0m\u001b[0mr_te\u001b[0m\u001b[1;33m*\u001b[0m\u001b[0mr_hs\u001b[0m\u001b[1;33m*\u001b[0m\u001b[0mnp\u001b[0m\u001b[1;33m.\u001b[0m\u001b[0mexp\u001b[0m\u001b[1;33m(\u001b[0m\u001b[1;36m2j\u001b[0m\u001b[1;33m*\u001b[0m\u001b[0mn_m\u001b[0m\u001b[1;33m*\u001b[0m\u001b[0mk0\u001b[0m\u001b[1;33m*\u001b[0m\u001b[0mnp\u001b[0m\u001b[1;33m.\u001b[0m\u001b[0mcos\u001b[0m\u001b[1;33m(\u001b[0m\u001b[0mtheta_m\u001b[0m\u001b[1;33m)\u001b[0m\u001b[1;33m*\u001b[0m\u001b[0ma\u001b[0m\u001b[1;33m)\u001b[0m\u001b[1;33m)\u001b[0m\u001b[1;33m\u001b[0m\u001b[1;33m\u001b[0m\u001b[0m\n\u001b[0;32m     47\u001b[0m \u001b[1;33m\u001b[0m\u001b[0m\n\u001b[1;32m---> 48\u001b[1;33m \u001b[0mplt\u001b[0m\u001b[1;33m.\u001b[0m\u001b[0mplot\u001b[0m\u001b[1;33m(\u001b[0m\u001b[0mlist\u001b[0m\u001b[1;33m(\u001b[0m\u001b[0mrange\u001b[0m\u001b[1;33m(\u001b[0m\u001b[1;36m89\u001b[0m\u001b[1;33m)\u001b[0m\u001b[1;33m)\u001b[0m\u001b[1;33m,\u001b[0m\u001b[0mnp\u001b[0m\u001b[1;33m.\u001b[0m\u001b[0mabs\u001b[0m\u001b[1;33m(\u001b[0m\u001b[0mr_hs\u001b[0m\u001b[1;33m[\u001b[0m\u001b[1;33m:\u001b[0m\u001b[1;33m-\u001b[0m\u001b[1;36m1\u001b[0m\u001b[1;33m]\u001b[0m\u001b[1;33m.\u001b[0m\u001b[0mreal\u001b[0m\u001b[1;33m)\u001b[0m\u001b[1;33m)\u001b[0m\u001b[1;33m\u001b[0m\u001b[1;33m\u001b[0m\u001b[0m\n\u001b[0m\u001b[0;32m     49\u001b[0m \u001b[0mplt\u001b[0m\u001b[1;33m.\u001b[0m\u001b[0mshow\u001b[0m\u001b[1;33m(\u001b[0m\u001b[1;33m)\u001b[0m\u001b[1;33m\u001b[0m\u001b[1;33m\u001b[0m\u001b[0m\n\u001b[0;32m     50\u001b[0m \u001b[1;33m\u001b[0m\u001b[0m\n",
      "\u001b[1;32m~\\Anaconda3\\lib\\site-packages\\matplotlib\\pyplot.py\u001b[0m in \u001b[0;36mplot\u001b[1;34m(scalex, scaley, data, *args, **kwargs)\u001b[0m\n\u001b[0;32m   2794\u001b[0m     return gca().plot(\n\u001b[0;32m   2795\u001b[0m         *args, scalex=scalex, scaley=scaley, **({\"data\": data} if data\n\u001b[1;32m-> 2796\u001b[1;33m         is not None else {}), **kwargs)\n\u001b[0m\u001b[0;32m   2797\u001b[0m \u001b[1;33m\u001b[0m\u001b[0m\n\u001b[0;32m   2798\u001b[0m \u001b[1;33m\u001b[0m\u001b[0m\n",
      "\u001b[1;32m~\\Anaconda3\\lib\\site-packages\\matplotlib\\axes\\_axes.py\u001b[0m in \u001b[0;36mplot\u001b[1;34m(self, scalex, scaley, data, *args, **kwargs)\u001b[0m\n\u001b[0;32m   1663\u001b[0m         \"\"\"\n\u001b[0;32m   1664\u001b[0m         \u001b[0mkwargs\u001b[0m \u001b[1;33m=\u001b[0m \u001b[0mcbook\u001b[0m\u001b[1;33m.\u001b[0m\u001b[0mnormalize_kwargs\u001b[0m\u001b[1;33m(\u001b[0m\u001b[0mkwargs\u001b[0m\u001b[1;33m,\u001b[0m \u001b[0mmlines\u001b[0m\u001b[1;33m.\u001b[0m\u001b[0mLine2D\u001b[0m\u001b[1;33m.\u001b[0m\u001b[0m_alias_map\u001b[0m\u001b[1;33m)\u001b[0m\u001b[1;33m\u001b[0m\u001b[1;33m\u001b[0m\u001b[0m\n\u001b[1;32m-> 1665\u001b[1;33m         \u001b[0mlines\u001b[0m \u001b[1;33m=\u001b[0m \u001b[1;33m[\u001b[0m\u001b[1;33m*\u001b[0m\u001b[0mself\u001b[0m\u001b[1;33m.\u001b[0m\u001b[0m_get_lines\u001b[0m\u001b[1;33m(\u001b[0m\u001b[1;33m*\u001b[0m\u001b[0margs\u001b[0m\u001b[1;33m,\u001b[0m \u001b[0mdata\u001b[0m\u001b[1;33m=\u001b[0m\u001b[0mdata\u001b[0m\u001b[1;33m,\u001b[0m \u001b[1;33m**\u001b[0m\u001b[0mkwargs\u001b[0m\u001b[1;33m)\u001b[0m\u001b[1;33m]\u001b[0m\u001b[1;33m\u001b[0m\u001b[1;33m\u001b[0m\u001b[0m\n\u001b[0m\u001b[0;32m   1666\u001b[0m         \u001b[1;32mfor\u001b[0m \u001b[0mline\u001b[0m \u001b[1;32min\u001b[0m \u001b[0mlines\u001b[0m\u001b[1;33m:\u001b[0m\u001b[1;33m\u001b[0m\u001b[1;33m\u001b[0m\u001b[0m\n\u001b[0;32m   1667\u001b[0m             \u001b[0mself\u001b[0m\u001b[1;33m.\u001b[0m\u001b[0madd_line\u001b[0m\u001b[1;33m(\u001b[0m\u001b[0mline\u001b[0m\u001b[1;33m)\u001b[0m\u001b[1;33m\u001b[0m\u001b[1;33m\u001b[0m\u001b[0m\n",
      "\u001b[1;32m~\\Anaconda3\\lib\\site-packages\\matplotlib\\axes\\_base.py\u001b[0m in \u001b[0;36m__call__\u001b[1;34m(self, *args, **kwargs)\u001b[0m\n\u001b[0;32m    223\u001b[0m                 \u001b[0mthis\u001b[0m \u001b[1;33m+=\u001b[0m \u001b[0margs\u001b[0m\u001b[1;33m[\u001b[0m\u001b[1;36m0\u001b[0m\u001b[1;33m]\u001b[0m\u001b[1;33m,\u001b[0m\u001b[1;33m\u001b[0m\u001b[1;33m\u001b[0m\u001b[0m\n\u001b[0;32m    224\u001b[0m                 \u001b[0margs\u001b[0m \u001b[1;33m=\u001b[0m \u001b[0margs\u001b[0m\u001b[1;33m[\u001b[0m\u001b[1;36m1\u001b[0m\u001b[1;33m:\u001b[0m\u001b[1;33m]\u001b[0m\u001b[1;33m\u001b[0m\u001b[1;33m\u001b[0m\u001b[0m\n\u001b[1;32m--> 225\u001b[1;33m             \u001b[1;32myield\u001b[0m \u001b[1;32mfrom\u001b[0m \u001b[0mself\u001b[0m\u001b[1;33m.\u001b[0m\u001b[0m_plot_args\u001b[0m\u001b[1;33m(\u001b[0m\u001b[0mthis\u001b[0m\u001b[1;33m,\u001b[0m \u001b[0mkwargs\u001b[0m\u001b[1;33m)\u001b[0m\u001b[1;33m\u001b[0m\u001b[1;33m\u001b[0m\u001b[0m\n\u001b[0m\u001b[0;32m    226\u001b[0m \u001b[1;33m\u001b[0m\u001b[0m\n\u001b[0;32m    227\u001b[0m     \u001b[1;32mdef\u001b[0m \u001b[0mget_next_color\u001b[0m\u001b[1;33m(\u001b[0m\u001b[0mself\u001b[0m\u001b[1;33m)\u001b[0m\u001b[1;33m:\u001b[0m\u001b[1;33m\u001b[0m\u001b[1;33m\u001b[0m\u001b[0m\n",
      "\u001b[1;32m~\\Anaconda3\\lib\\site-packages\\matplotlib\\axes\\_base.py\u001b[0m in \u001b[0;36m_plot_args\u001b[1;34m(self, tup, kwargs)\u001b[0m\n\u001b[0;32m    389\u001b[0m             \u001b[0mx\u001b[0m\u001b[1;33m,\u001b[0m \u001b[0my\u001b[0m \u001b[1;33m=\u001b[0m \u001b[0mindex_of\u001b[0m\u001b[1;33m(\u001b[0m\u001b[0mtup\u001b[0m\u001b[1;33m[\u001b[0m\u001b[1;33m-\u001b[0m\u001b[1;36m1\u001b[0m\u001b[1;33m]\u001b[0m\u001b[1;33m)\u001b[0m\u001b[1;33m\u001b[0m\u001b[1;33m\u001b[0m\u001b[0m\n\u001b[0;32m    390\u001b[0m \u001b[1;33m\u001b[0m\u001b[0m\n\u001b[1;32m--> 391\u001b[1;33m         \u001b[0mx\u001b[0m\u001b[1;33m,\u001b[0m \u001b[0my\u001b[0m \u001b[1;33m=\u001b[0m \u001b[0mself\u001b[0m\u001b[1;33m.\u001b[0m\u001b[0m_xy_from_xy\u001b[0m\u001b[1;33m(\u001b[0m\u001b[0mx\u001b[0m\u001b[1;33m,\u001b[0m \u001b[0my\u001b[0m\u001b[1;33m)\u001b[0m\u001b[1;33m\u001b[0m\u001b[1;33m\u001b[0m\u001b[0m\n\u001b[0m\u001b[0;32m    392\u001b[0m \u001b[1;33m\u001b[0m\u001b[0m\n\u001b[0;32m    393\u001b[0m         \u001b[1;32mif\u001b[0m \u001b[0mself\u001b[0m\u001b[1;33m.\u001b[0m\u001b[0mcommand\u001b[0m \u001b[1;33m==\u001b[0m \u001b[1;34m'plot'\u001b[0m\u001b[1;33m:\u001b[0m\u001b[1;33m\u001b[0m\u001b[1;33m\u001b[0m\u001b[0m\n",
      "\u001b[1;32m~\\Anaconda3\\lib\\site-packages\\matplotlib\\axes\\_base.py\u001b[0m in \u001b[0;36m_xy_from_xy\u001b[1;34m(self, x, y)\u001b[0m\n\u001b[0;32m    268\u001b[0m         \u001b[1;32mif\u001b[0m \u001b[0mx\u001b[0m\u001b[1;33m.\u001b[0m\u001b[0mshape\u001b[0m\u001b[1;33m[\u001b[0m\u001b[1;36m0\u001b[0m\u001b[1;33m]\u001b[0m \u001b[1;33m!=\u001b[0m \u001b[0my\u001b[0m\u001b[1;33m.\u001b[0m\u001b[0mshape\u001b[0m\u001b[1;33m[\u001b[0m\u001b[1;36m0\u001b[0m\u001b[1;33m]\u001b[0m\u001b[1;33m:\u001b[0m\u001b[1;33m\u001b[0m\u001b[1;33m\u001b[0m\u001b[0m\n\u001b[0;32m    269\u001b[0m             raise ValueError(\"x and y must have same first dimension, but \"\n\u001b[1;32m--> 270\u001b[1;33m                              \"have shapes {} and {}\".format(x.shape, y.shape))\n\u001b[0m\u001b[0;32m    271\u001b[0m         \u001b[1;32mif\u001b[0m \u001b[0mx\u001b[0m\u001b[1;33m.\u001b[0m\u001b[0mndim\u001b[0m \u001b[1;33m>\u001b[0m \u001b[1;36m2\u001b[0m \u001b[1;32mor\u001b[0m \u001b[0my\u001b[0m\u001b[1;33m.\u001b[0m\u001b[0mndim\u001b[0m \u001b[1;33m>\u001b[0m \u001b[1;36m2\u001b[0m\u001b[1;33m:\u001b[0m\u001b[1;33m\u001b[0m\u001b[1;33m\u001b[0m\u001b[0m\n\u001b[0;32m    272\u001b[0m             raise ValueError(\"x and y can be no greater than 2-D, but have \"\n",
      "\u001b[1;31mValueError\u001b[0m: x and y must have same first dimension, but have shapes (89,) and (31,)"
     ],
     "ename": "ValueError",
     "evalue": "x and y must have same first dimension, but have shapes (89,) and (31,)",
     "output_type": "error"
    },
    {
     "data": {
      "text/plain": "<Figure size 432x288 with 1 Axes>",
      "image/png": "[encoded data removed]"
     },
     "metadata": {
      "needs_background": "light"
     },
     "output_type": "display_data"
    }
   ],
   "source": [
    "import numpy as np\n",
    "import matplotlib.pyplot as plt\n",
    "from numpy import genfromtxt\n",
    "%matplotlib inline\n",
    "%load_ext autoreload\n",
    "%autoreload 2\n",
    "\n",
    "degree_divs=64\n",
    "s1 = genfromtxt(f's1_pm_{degree_divs}.txt', delimiter=',')\n",
    "s2 = genfromtxt(f's2_pm_{degree_divs}.txt', delimiter=',')\n",
    "m11 = genfromtxt(f'm11_pm_{degree_divs}.txt', delimiter=',')\n",
    "m12 = genfromtxt(f'm12_pm_{degree_divs}.txt', delimiter=',')\n",
    "temp = 1j * s1[:, 2]\n",
    "temp += s1[:, 1]\n",
    "s1 = temp\n",
    "temp = 1j * s2[:, 2]\n",
    "temp += s2[:, 1]\n",
    "s2 = temp\n",
    "m11 = m11[:, 1]\n",
    "m12 = m12[:, 1]\n",
    "\n",
    "theta = np.linspace(0,np.pi/2,int(degree_divs/2))\n",
    "k0 = 2*np.pi/(633e-9)\n",
    "n_m = 1.33\n",
    "n_p=1.33\n",
    "# n_1=1.5151\n",
    "n_1=1.55\n",
    "k_m =n_m*k0*np.cos(theta)\n",
    "f=0.057\n",
    "a=234e-9\n",
    "\n",
    "x_m=n_m*k0\n",
    "gamma = 3/2*f/np.power(x_m,3)\n",
    "alpha = -gamma*k_m/np.cos(theta)*s1[0]\n",
    "theta_2 = np.linspace(degree_divs-1,0,int(degree_divs/2),dtype=np.int)\n",
    "beta=-gamma*k_m/np.cos(theta)*s1[theta_2]\n",
    "k_eff = np.sqrt(k_m**2-2j*alpha*k_m+beta**2-alpha**2)\n",
    "r_hs = beta/(1j*(k_eff+k_m)+alpha)\n",
    "\n",
    "n_eff = np.sqrt(n_m**2-2j*alpha*k_m/k0**2+(beta**2-alpha**2)/k0**2)\n",
    "\n",
    "r_te=(n_m*np.cos(theta)-n_eff*np.sqrt(1-(n_m/n_eff)*(n_m/n_eff)*2*np.power(np.sin(theta),2)))/(n_m*np.cos(theta)+n_eff*np.sqrt(1-(n_m/n_eff)**2*np.power(np.sin(theta),2)))\n",
    "r_tm = (n_eff*np.cos(theta)-n_m*np.sqrt(1-(n_m/n_eff)*(n_m/n_eff)*2*np.power(np.sin(theta),2)))/(n_eff*np.cos(theta)+n_m*np.sqrt(1-(n_m/n_eff)**2*np.power(np.sin(theta),2)))\n",
    "\n",
    "theta_m = np.arcsin(n_m/n_1*theta*np.pi/2/90)\n",
    "r_te_total = (r_te+r_hs*np.exp(2j*n_m*k0*np.cos(theta_m)*a))/(1+r_te*r_hs*np.exp(2j*n_m*k0*np.cos(theta_m)*a))\n",
    "\n",
    "plt.plot(list(range(89)),np.abs(r_hs[:-1].real))\n",
    "plt.show()"
   ]
  },
  {
   "cell_type": "code",
   "execution_count": 2,
   "outputs": [
    {
     "traceback": [
      "\u001b[1;36m  File \u001b[1;32m\"<ipython-input-2-52006d2607f6>\"\u001b[1;36m, line \u001b[1;32m22\u001b[0m\n\u001b[1;33m    k0 = 2*np.pi/(633e?-9)\u001b[0m\n\u001b[1;37m                     ^\u001b[0m\n\u001b[1;31mSyntaxError\u001b[0m\u001b[1;31m:\u001b[0m invalid syntax\n"
     ],
     "ename": "SyntaxError",
     "evalue": "invalid syntax (<ipython-input-2-52006d2607f6>, line 22)",
     "output_type": "error"
    }
   ],
   "source": [
    "import numpy as np\n",
    "import matplotlib.pyplot as plt\n",
    "from numpy import genfromtxt\n",
    "%matplotlib inline\n",
    "%load_ext autoreload\n",
    "%autoreload 2\n",
    "\n",
    "degree_divs=64\n",
    "s1 = genfromtxt(f's1_pm_{degree_divs}.txt', delimiter=',')\n",
    "s2 = genfromtxt(f's2_pm_{degree_divs}.txt', delimiter=',')\n",
    "m11 = genfromtxt(f'm11_pm_{degree_divs}.txt', delimiter=',')\n",
    "m12 = genfromtxt(f'm12_pm_{degree_divs}.txt', delimiter=',')\n",
    "temp = 1j * s1[:, 2]\n",
    "temp += s1[:, 1]\n",
    "s1 = temp\n",
    "temp = 1j * s2[:, 2]\n",
    "temp += s2[:, 1]\n",
    "s2 = temp\n",
    "m11 = m11[:, 1]\n",
    "m12 = m12[:, 1]\n",
    "theta = np.linspace(0,np.pi/2,int(degree_divs/2))\n",
    "k0 = 2*np.pi/(633e?-9)\n",
    "n_m = 1\n",
    "f=0.1\n",
    "a=70-9\n",
    "x_m=n_m*k0*a\n",
    "gamma = 3/2*f/np.power(x_m,3)\n",
    "\n",
    "theta=np.linspace(0,degree_divs/2-1,int(degree_divs/2))*np.pi/int(degree_divs)\n",
    "theta_2 = np.linspace(degree_divs-1,0 ,int(degree_divs/2),dtype=np.int)\n",
    "s_1_p = 1/2*(s1[0]+s1[theta_2])\n",
    "s_2_p = 1/2*(s2[0]+s2[theta_2])\n",
    "s_1_n = s1[0]-s1[theta_2]\n",
    "s_2_n = s2[0]-s2[theta_2]\n",
    "\n",
    "mu_te = 1+1j*gamma*s_1_n/np.power(np.cos(theta),2)\n",
    "eps_te = 1+1j*gamma*(2*s_1_p - s_1_n*np.power(np.tan(theta),2))\n",
    "mu_tm = 1+1j*gamma*(2*s_2_p-s_2_n*np.power(np.tan(theta),2))\n",
    "eps_tm = 1+1j*gamma*s_2_n/np.power(np.cos(theta),2)\n",
    "\n",
    "n_eff_te = np.sqrt(mu_te*eps_te)\n",
    "n_eff_tm = np.sqrt(mu_tm*eps_tm)\n",
    "n_eff=1+2j*gamma*s1[0]\n",
    "k_z_i=k0\n",
    "k_z_eff_te=n_eff_te*k0\n",
    "k_z_eff_tm=n_eff_tm*k0\n",
    "\n",
    "r_te = (mu_te*k_z_i - k_z_eff_te)/(mu_te*k_z_i + k_z_eff_te)\n",
    "r_tm = (eps_tm*k_z_i - k_z_eff_tm)/(eps_tm*k_z_i + k_z_eff_tm)\n",
    "sum = 0.5*(np.abs(r_te)**2+np.abs(r_tm)**2)\n",
    "x=np.linspace(0,89,int(degree_divs/2),dtype=np.int)\n",
    "plt.plot(r_tm[:-1])\n",
    "\n",
    "plt.show()"
   ],
   "metadata": {
    "collapsed": false,
    "pycharm": {
     "name": "#%%\n",
     "is_executing": false
    }
   }
  },
  {
   "cell_type": "code",
   "execution_count": 3,
   "outputs": [
    {
     "name": "stdout",
     "text": [
      "The autoreload extension is already loaded. To reload it, use:\n  %reload_ext autoreload\n"
     ],
     "output_type": "stream"
    },
    {
     "data": {
      "text/plain": "<Figure size 432x288 with 1 Axes>",
      "image/png": "[encoded data removed]"
     },
     "metadata": {
      "needs_background": "light"
     },
     "output_type": "display_data"
    }
   ],
   "source": [
    "import numpy as np\n",
    "import matplotlib.pyplot as plt\n",
    "from numpy import genfromtxt\n",
    "%matplotlib inline\n",
    "%load_ext autoreload\n",
    "%autoreload 2\n",
    "\n",
    "degree_divs=64\n",
    "s1 = genfromtxt(f's1_pm_{degree_divs}.txt', delimiter=',')\n",
    "s2 = genfromtxt(f's2_pm_{degree_divs}.txt', delimiter=',')\n",
    "m11 = genfromtxt(f'm11_pm_{degree_divs}.txt', delimiter=',')\n",
    "m12 = genfromtxt(f'm12_pm_{degree_divs}.txt', delimiter=',')\n",
    "temp = 1j * s1[:, 2]\n",
    "temp += s1[:, 1]\n",
    "s1 = temp\n",
    "temp = 1j * s2[:, 2]\n",
    "temp += s2[:, 1]\n",
    "s2 = temp\n",
    "m11 = m11[:, 1]\n",
    "m12 = m12[:, 1]\n",
    "\n",
    "theta = np.linspace(0,np.pi/2,int(degree_divs/2))\n",
    "k0 = 2*np.pi/(633e-9)\n",
    "n_m = 1.33\n",
    "n_p=1.33\n",
    "# n_1=1.5151\n",
    "n_1=1.55\n",
    "k_m = n_m*k0*np.cos(theta)\n",
    "f=0.05\n",
    "a=70e-9\n",
    "n_0=1\n",
    "k_i_z = k0*np.cos(theta)\n",
    "\n",
    "k_f_z = np.sqrt(k_i_z**2+4j*np.pi*n_0/k0*s1[0])\n",
    "\n",
    "theta_2 = np.linspace(np.pi,0,int(degree_divs/2),dtype=np.int)\n",
    "r_s = s1[theta_2]/s1[0]*(k_i_z-k_f_z)/(k_i_z+k_f_z)*np.exp(2j*a*k_i_z)\n",
    "r_p = s2[theta_2]/s2[0]*(k_i_z-k_f_z)/(k_i_z+k_f_z)*np.exp(2j*a*k_i_z)\n",
    "\n",
    "r_s=(k_i_z-k_f_z)/(k_i_z+k_f_z)\n",
    "x=np.linspace(0,np.pi/2,int(degree_divs/2))\n",
    "plt.plot(x[:-1],r_s[:-1].imag)\n",
    "plt.show()"
   ],
   "metadata": {
    "collapsed": false,
    "pycharm": {
     "name": "#%%\n",
     "is_executing": false
    }
   }
  },
  {
   "cell_type": "code",
   "execution_count": 5,
   "outputs": [
    {
     "name": "stdout",
     "text": [
      "The autoreload extension is already loaded. To reload it, use:\n  %reload_ext autoreload\n"
     ],
     "output_type": "stream"
    },
    {
     "data": {
      "text/plain": "<Figure size 432x288 with 1 Axes>",
      "image/png": "[encoded data removed]"
     },
     "metadata": {
      "needs_background": "light"
     },
     "output_type": "display_data"
    }
   ],
   "source": [
    "import numpy as np\n",
    "import matplotlib.pyplot as plt\n",
    "from numpy import genfromtxt\n",
    "%matplotlib inline\n",
    "%load_ext autoreload\n",
    "%autoreload 2\n",
    "\n",
    "degree_divs=64\n",
    "s1 = genfromtxt(f's1_pm_{degree_divs}.txt', delimiter=',')\n",
    "s2 = genfromtxt(f's2_pm_{degree_divs}.txt', delimiter=',')\n",
    "m11 = genfromtxt(f'm11_pm_{degree_divs}.txt', delimiter=',')\n",
    "m12 = genfromtxt(f'm12_pm_{degree_divs}.txt', delimiter=',')\n",
    "temp = 1j * s1[:, 2]\n",
    "temp += s1[:, 1]\n",
    "s1 = temp\n",
    "temp = 1j * s2[:, 2]\n",
    "temp += s2[:, 1]\n",
    "s2 = temp\n",
    "m11 = m11[:, 1]\n",
    "m12 = m12[:, 1]\n",
    "\n",
    "theta = np.linspace(0,np.pi/2,int(degree_divs/2))\n",
    "k0 = 2*np.pi/(633e-9)\n",
    "n_m = 1.33\n",
    "n_p=1.33\n",
    "\n",
    "f=0.1\n",
    "a=234e-9\n",
    "x_m=n_m*k0\n",
    "gamma = 3/2*f/np.power(x_m,3)\n",
    "\n",
    "theta_2=np.linspace(np.pi,0,int(degree_divs/2),dtype=np.int)\n",
    "\n",
    "r_re = (gamma*s1[theta_2]/np.cos(theta))/(1j*(np.cos(theta)+np.sqrt(np.cos(theta)**2 + 2j*gamma*s1[0]))- gamma*s1[0]/np.cos(theta))\n",
    "\n",
    "plt.plot(r_re[:-1].real)\n",
    "plt.show()"
   ],
   "metadata": {
    "collapsed": false,
    "pycharm": {
     "name": "#%%\n",
     "is_executing": false
    }
   }
  },
  {
   "cell_type": "code",
   "execution_count": null,
   "outputs": [],
   "source": [
    "\n"
   ],
   "metadata": {
    "collapsed": false,
    "pycharm": {
     "name": "#%%\n"
    }
   }
  }
 ],
 "metadata": {
  "kernelspec": {
   "display_name": "Python 3",
   "language": "python",
   "name": "python3"
  },
  "language_info": {
   "codemirror_mode": {
    "name": "ipython",
    "version": 2
   },
   "file_extension": ".py",
   "mimetype": "text/x-python",
   "name": "python",
   "nbconvert_exporter": "python",
   "pygments_lexer": "ipython2",
   "version": "2.7.6"
  },
  "pycharm": {
   "stem_cell": {
    "cell_type": "raw",
    "source": [],
    "metadata": {
     "collapsed": false
    }
   }
  }
 },
 "nbformat": 4,
 "nbformat_minor": 0
}