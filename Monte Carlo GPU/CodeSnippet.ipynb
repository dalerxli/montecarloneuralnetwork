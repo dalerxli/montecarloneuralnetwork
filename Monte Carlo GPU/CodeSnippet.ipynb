{
 "cells": [
  {
   "cell_type": "code",
   "execution_count": null,
   "outputs": [],
   "source": [
    "import matplotlib.pyplot as plt\n",
    "import matplotlib.colors as mcolors\n",
    "%matplotlib inline\n",
    "w=np.array(np.random.rand(1000)*1)\n",
    "values=np.array(np.random.rand(1000)*20)\n",
    "indices=values.argsort()\n",
    "w=w[indices]\n",
    "values=values[indices]\n",
    "#print(values)\n",
    "bins=np.linspace(values.min(), values.max(),20)\n",
    "print(bins)\n",
    "mid_bins=0.5*(bins[:-1]+bins[1:])\n",
    "batch_indx=np.asarray([[bins[i],bins[i+1] ]for i in range(len(bins)-1)])\n",
    "\n",
    "batches=[values[(values>=lbound) & (values<hbound)] for lbound,hbound in batch_indx]\n",
    "weights=[w[(values>=lbound) & (values<hbound)] for lbound,hbound in batch_indx]\n",
    "s_weights=[np.sum(w_b)/len(w_b) for w_b in weights]\n",
    "s_weights=np.asarray(s_weights)\n",
    "cs=np.cumsum(indices)\n",
    "\n",
    "width = 1\n",
    "\n",
    "clist = [(0, \"red\"),(s_weights.min(), \"red\"), (s_weights.max(), \"blue\"),(1, \"blue\")]\n",
    "rvb = mcolors.LinearSegmentedColormap.from_list(\"\", clist)\n",
    "\n",
    "ax = plt.subplot(111)\n",
    "ax.bar(mid_bins, s_weights, width, color=rvb(s_weights))\n",
    "plt.show()"
   ],
   "metadata": {
    "collapsed": false,
    "pycharm": {
     "name": "#%%\n",
     "is_executing": false
    }
   }
  },
  {
   "cell_type": "code",
   "execution_count": 1,
   "outputs": [
    {
     "name": "stdout",
     "text": [
      "nphotons 1000000\nmpi_np 4\nmus 100.00076\nmua 0.00000\nmusp 100.00000\ncollection_radius 0.05000\nslab_sizes 1.00000\nnangles 10001\nNNr 501\nNNxy 1001\nNNz 501\ndr 0.00009980039920159681\ndxdx 0.00009990009990009990\ndz 0.00009980039920159681\nno 1.3300000000\nne 1.3300000000\nchi 0.0000000000\nlambda 0.6330000000\nbirefringence directional cosine 0 1.0000000000\nb1 0.0000000000\nb2 0.0000000000\n"
     ],
     "output_type": "stream"
    }
   ],
   "source": [
    "import matplotlib.pyplot as plt\n",
    "params=['nphotons', 'mpi_np', 'mus','mua','musp','collection_radius', 'slab_sizes','nangles', 'NNr', 'NNxy', 'NNz', 'dr', 'dxdx', 'dz', 'no','ne', 'chi', 'lambda','birefringence directional cosine 0','b1','b2', ]\n",
    "with open('parameters.txt', 'r') as f:\n",
    "    #for i, line in enumerate(f.readline()):\n",
    "    i=0\n",
    "    for line in f:\n",
    "        print(params[i],line.strip())\n",
    "        i+=1"
   ],
   "metadata": {
    "collapsed": false,
    "pycharm": {
     "name": "#%%\n",
     "is_executing": false
    }
   }
  },
  {
   "cell_type": "code",
   "execution_count": null,
   "outputs": [],
   "source": [
    "real=[]\n",
    "imag=[]\n",
    "real=[]\n",
    "imag=[]\n",
    "with open('s2.txt','r') as f:\n",
    "    i=0\n",
    "    for line in f:\n",
    "        real.append(float(line.strip().split( )[0]))\n",
    "        imag.append(float(line.strip().split( )[1]))\n",
    "\n",
    "ax0=plt.subplot(1,2,1)\n",
    "ax0.plot(real)\n",
    "ax1=plt.subplot(1,2,2)\n",
    "ax1.plot(imag)\n",
    "plt.show()"
   ],
   "metadata": {
    "collapsed": false,
    "pycharm": {
     "name": "#%%\n",
     "is_executing": false
    }
   }
  },
  {
   "cell_type": "code",
   "execution_count": null,
   "outputs": [],
   "source": [
    "import matplotlib.pyplot as plt\n",
    "%matplotlib inline\n",
    "real=[]\n",
    "imag=[]\n",
    "real=[]\n",
    "imag=[]\n",
    "with open('m11.txt','r') as f:\n",
    "    i=0\n",
    "    for line in f:\n",
    "        real.append(float(line.strip().split( )[0]))\n",
    "        #imag.append(float(line.strip().split( )[1]))\n",
    "\n",
    "ax0=plt.subplot(1,2,1)\n",
    "ax0.plot(real)\n",
    "ax1=plt.subplot(1,2,2)\n",
    "ax1.plot(imag)\n",
    "plt.show()"
   ],
   "metadata": {
    "collapsed": false,
    "pycharm": {
     "name": "#%%\n",
     "is_executing": false
    }
   }
  },
  {
   "cell_type": "code",
   "execution_count": null,
   "outputs": [],
   "source": [
    "import numpy as np\n",
    "from numpy import genfromtxt\n",
    "\n",
    "my_data = genfromtxt('s1_pm_1000.txt', delimiter=',')\n",
    "my_data\n",
    "plt.plot(my_data)\n",
    "plt.show()\n",
    "\n",
    "res=1j*my_data[:,2]\n",
    "res+=my_data[:,1]\n",
    "#print(my_data[:,1].shape)\n",
    "#np.complex(my_data[:,1],my_data[:,2])\n",
    "res"
   ],
   "metadata": {
    "collapsed": false,
    "pycharm": {
     "name": "#%%\n",
     "is_executing": false
    }
   }
  },
  {
   "cell_type": "code",
   "execution_count": null,
   "outputs": [],
   "source": [
    "import numpy as np\n",
    "import matplotlib.pyplot as plt\n",
    "import matplotlib.ticker as ticker\n",
    "import matplotlib.ticker as plticker\n",
    "%matplotlib inline\n",
    "%load_ext autoreload\n",
    "%autoreload 2\n",
    "\n",
    "rads=np.linspace(0,np.pi*2,720)\n",
    "xticks=list(np.linspace(0,720,7, dtype=int))\n",
    "#print(xticks)\n",
    "new_ticks=list(np.linspace(0,360,7, dtype=int))\n",
    "gs=[0.5,0.9,0.99]\n",
    "f=np.zeros((3,720))\n",
    "for i,g in enumerate(gs):\n",
    "    f[i,:]=(1-g*g)/(2*(1+g*g-2*g*np.cos(rads)))\n",
    "    \n",
    "# fig, ax = plt.subplots()\n",
    "# ax.plot(f[0].T)\n",
    "# ax.set_xticklabels([0,1,2], [4,5,6])\n",
    "# loc = plticker.MultipleLocator(base=32) # this locator puts ticks at regular intervals\n",
    "#ax.xaxis.set_major_locator(loc)\n",
    "#ax.xaxis.set_ticks(xticks)\n",
    "#ax.xaxis.set_major_formatter(ticker.FormatStrFormatter('%0.1f'))\n",
    "#plt.xticks(xticks)\n",
    "# ax.set_ylim((0,10))\n",
    "# plt.show()\n",
    "plt.plot(rads,f[0],'r-')\n",
    "plt.plot(rads,f[1], '--b')\n",
    "plt.plot(rads,f[2], '--k')\n",
    "plt.legend([f'g = {str(gs[0])}',f'g = {str(gs[1])}',f'g = {str(gs[2])}'])\n",
    "#plt.xticks(xticks,new_ticks)\n",
    "plt.xlabel('Radian', fontsize=12)\n",
    "plt.savefig('gs.png')\n",
    "plt.show()"
   ],
   "metadata": {
    "collapsed": false,
    "pycharm": {
     "name": "#%%\n",
     "is_executing": false
    }
   }
  },
  {
   "cell_type": "code",
   "execution_count": null,
   "outputs": [],
   "source": [
    "from photon import *\n",
    "import numpy as np\n",
    "from numba import typed, types\n",
    "import numba as nb\n",
    "import matplotlib.pyplot as plt\n",
    "import matplotlib.colors as mcolors\n",
    "from plot import *\n",
    "from numpy import genfromtxt\n",
    "from numba.cuda.random import init_xoroshiro128p_states\n",
    "\n",
    "gridDim = 515\n",
    "blockDim = 512\n",
    "dim = gridDim * blockDim\n",
    "all_adj_dist = []\n",
    "all_collected = []\n",
    "all_amps = []\n",
    "all_modes = []\n",
    "mode = 1.0\n",
    "iters = 3 * 16\n",
    "#iters = 1\n",
    "NNxy = 100\n",
    "NNr = 50\n",
    "NNz = 50\n",
    "degree_divs = 1000\n",
    "\n",
    "s1 = genfromtxt('s1_pm_1000.txt', delimiter=',')\n",
    "s2 = genfromtxt('s2_pm_1000.txt', delimiter=',')\n",
    "m11 = genfromtxt('m11_pm_1000.txt', delimiter=',')\n",
    "m12 = genfromtxt('m12_pm_1000.txt', delimiter=',')\n",
    "temp = 1j * s1[:, 2]\n",
    "temp += s1[:, 1]\n",
    "s1 = temp\n",
    "temp = 1j * s2[:, 2]\n",
    "temp += s2[:, 1]\n",
    "s2 = temp\n",
    "temp = 1j * m11[:, 2]\n",
    "temp += m11[:, 1]\n",
    "m11 = temp\n",
    "temp = 1j * m12[:, 2]\n",
    "temp += m12[:, 1]\n",
    "m12 = temp\n",
    "#print(m11[1])\n",
    "print(cuda.gpus)\n",
    "for i in range(iters):\n",
    "    mode = i % 3\n",
    "    #mode = 3\n",
    "\n",
    "    amplitudes = np.ones(dim, dtype=np.float32)\n",
    "    steps = np.zeros(dim, dtype=np.float32)\n",
    "    lengths = np.zeros(dim, dtype=np.float32)\n",
    "    direction_theta = np.ones(dim, dtype=np.float32) * (np.pi / 2)\n",
    "    maxZs = np.zeros(dim, dtype=np.float32)\n",
    "    position_x = np.zeros(dim, dtype=np.float32)\n",
    "    position_y = np.ones(dim, dtype=np.float32) * (1e-8)\n",
    "    polarization = np.ones(dim, dtype=np.float32)\n",
    "    adjusted_dist = np.zeros(dim, dtype=np.float32)\n",
    "    collected = np.zeros(dim, dtype=np.float32)\n",
    "    modes = np.ones(dim, dtype=np.float32) * mode  # polarization mode 0:nonpolarized 1:p-polarized 2:s-polarized\n",
    "\n",
    "    jones = np.zeros((dim, 4), dtype=np.complex64)\n",
    "    #jones=cuda.to_device(jones)\n",
    "    jones_partial = np.zeros((dim, 4), dtype=np.complex64)\n",
    "    U = np.zeros((dim, 3), dtype=np.float32)\n",
    "    W = np.zeros(dim, dtype=np.float32)\n",
    "    mu_as = np.ones(dim, dtype=np.float32)*0\n",
    "    mu_ss = np.ones(dim, dtype=np.float32)*1000\n",
    "    scat_events = np.zeros(dim, dtype=np.float32)\n",
    "\n",
    "    co_xy = np.zeros((NNxy, NNxy), dtype=np.float32)\n",
    "    cross_xy = np.zeros((NNxy, NNxy), dtype=np.float32)\n",
    "    incoh_cross_xy = np.zeros((NNxy, NNxy), dtype=np.float32)\n",
    "    co_rz = np.zeros((NNr, NNz), dtype=np.float32)\n",
    "    cross_rz = np.zeros((NNr, NNz), dtype=np.float32)\n",
    "    incoh_cross_rz = np.zeros((NNr, NNz), dtype=np.float32)\n",
    "\n",
    "    co_xy_trad = np.zeros((NNxy, NNxy), dtype=np.float32)\n",
    "    cross_xy_trad = np.zeros((NNxy, NNxy), dtype=np.float32)\n",
    "    incoh_cross_xy_trad = np.zeros((NNxy, NNxy), dtype=np.float32)\n",
    "    co_rz_trad = np.zeros((NNr, NNz), dtype=np.float32)\n",
    "    cross_rz_trad = np.zeros((NNr, NNz), dtype=np.float32)\n",
    "    incoh_cross_rz_trad = np.zeros((NNr, NNz), dtype=np.float32)\n",
    "\n",
    "    position = np.zeros((NNxy, 3), dtype=np.float32)\n",
    "\n",
    "\n",
    "    rng_states = create_xoroshiro128p_states((gridDim * blockDim)*300 , seed=int(mode + 10 + i))\n",
    "    #print(rng_states)\n",
    "    #rng_states = init_xoroshiro128p_states(gridDim * blockDim + i + int(mode), seed=int(mode + 1 + i))\n",
    "    process_steps[gridDim, blockDim](amplitudes, direction_theta, position_x, position_y, polarization, steps, lengths,\n",
    "                                     maxZs, rng_states, adjusted_dist, collected, modes, U, W, jones, mu_as, mu_ss,\n",
    "                                     scat_events, jones_partial,co_xy, cross_xy, incoh_cross_xy, co_rz, cross_rz, incoh_cross_rz,\n",
    "                                     co_xy_trad, cross_xy_trad, incoh_cross_xy_trad, co_rz_trad, cross_rz_trad,\n",
    "                                     incoh_cross_rz_trad, position, s1, s2,m11,m12)\n",
    "    #nb.cuda.profile_stop()\n",
    "\n",
    "    all_adj_dist.append(adjusted_dist)\n",
    "    all_collected.append(collected)\n",
    "    all_amps.append(amplitudes)\n",
    "    all_modes.append(modes)\n"
   ],
   "metadata": {
    "collapsed": false,
    "pycharm": {
     "name": "#%%\n",
     "is_executing": false
    }
   }
  },
  {
   "cell_type": "code",
   "execution_count": null,
   "outputs": [],
   "source": [
    "all_adj_dist = np.asarray(all_adj_dist)\n",
    "all_collected = np.asarray(all_collected)\n",
    "all_amps = np.asarray(all_amps)\n",
    "all_adj_dist = all_adj_dist.reshape([-1])\n",
    "all_collected = all_collected.reshape([-1])\n",
    "all_amps = all_amps.reshape([-1])\n",
    "all_modes = np.asarray(all_modes)\n",
    "all_modes = all_modes.reshape([-1])\n",
    "\n",
    "position_y_cs = np.cumsum(position_y)\n",
    "weighted = position_y * amplitudes\n",
    "weighted_cs = np.cumsum(weighted)\n",
    "\n",
    "# print(all_collected.shape)\n",
    "fig, axes = plt.subplots(2, 4, figsize=(16, 8))\n",
    "fig.tight_layout()\n",
    "photon_type = ['Non Polarized', 'P-Polarized', 'S-Polarized']\n",
    "#print(all_modes ==0)\n",
    "print(len(all_adj_dist[(all_collected > 0) & (all_modes==0)] ))\n",
    "# print(len(all_adj_dist[(all_collected > 0) & (all_modes==1)] ))\n",
    "# print(len(all_adj_dist[(all_collected > 0) & (all_modes==2)] ))\n",
    "print(len(all_adj_dist[(all_collected > 0) & (all_modes == 2)]) / len(all_adj_dist[all_modes == 2]))\n",
    "# print(len(axes[1]))\n",
    "for i, ax in enumerate(axes[0]):\n",
    "    if i == 3:\n",
    "        break\n",
    "    # n, bins, patches=ax.hist(all_adj_dist[(all_collected > 0) & (all_modes==i)], bins=500, density=True, log=True, weights=all_amps[(all_collected > 0) & (all_modes==i)] / (iters * dim / 3))\n",
    "    ax = plot(all_amps[(all_collected > 0) & (all_modes == i)], all_adj_dist[(all_collected > 0) & (all_modes == i)],\n",
    "              ax)\n",
    "    ax.set_title(photon_type[i])\n",
    "    # print(len(n))\n",
    "    ax.set_xlim([0, 1.2e-3])\n",
    "    # bin_centers = 0.5 * (bins[:-1] + bins[1:])\n",
    "    # scale values to interval [0,1]\n",
    "    # col = bin_centers - min(bin_centers)\n",
    "    # col /= max(col)\n",
    "    # cm = plt.cm.get_cmap('RdYlBu_r')\n",
    "    # for c, p in zip(col, patches):\n",
    "    #     plt.setp(p, 'facecolor', cm(c))\n",
    "\n",
    "stoke_vectors = ['S_0', 'S_1', 'S_2', 'S_3']\n",
    "for i, stoke_vector in enumerate(stoke_vectors):\n",
    "    axes[1][i], s_0, frequency_bins = plot_stokes(all_amps[(all_collected > 0) & (all_modes == 1)],\n",
    "                                                  all_adj_dist[(all_collected > 0) & (all_modes == 1)],\n",
    "                                                  all_amps[(all_collected > 0) & (all_modes == 2)],\n",
    "                                                  all_adj_dist[(all_collected > 0) & (all_modes == 2)], axes[1][i],\n",
    "                                                  stokes=stoke_vector)\n",
    "    axes[1][i].set_xlim([0, 1.2e-3])\n",
    "    axes[1][i].set_title(stoke_vectors[i])\n",
    "\n",
    "for ax in axes:\n",
    "    for a in ax:\n",
    "        for layer in y_array:\n",
    "            a.axvline(layer, color='r', linestyle='dashed', linewidth=1)\n",
    "\n",
    "plt.savefig('octsimplemp.png')"
   ],
   "metadata": {
    "collapsed": false,
    "pycharm": {
     "name": "#%%\n",
     "is_executing": false
    }
   }
  },
  {
   "cell_type": "code",
   "execution_count": null,
   "outputs": [],
   "source": [
    "fig, axes = plt.subplots(1, figsize=(16, 8))\n",
    "fig.tight_layout()\n",
    "ax=axes\n",
    "ax = plot(all_amps[(all_collected > 0) & (all_modes == 0)], all_adj_dist[(all_collected > 0) & (all_modes == 0)],\n",
    "          ax)\n",
    "ax.set_title(photon_type[0])\n",
    "# print(len(n))\n",
    "ax.set_xlim([0, 1.2e-3])\n",
    "for layer in y_array:\n",
    "    ax.axvline(layer, color='r', linestyle='dashed', linewidth=1)\n",
    "plt.savefig('octsimplemp.png')\n",
    "fig.show()"
   ],
   "metadata": {
    "collapsed": false,
    "pycharm": {
     "name": "#%%\n",
     "is_executing": false
    }
   }
  },
  {
   "cell_type": "code",
   "execution_count": null,
   "outputs": [],
   "source": [
    "from numba.pycc import CC\n",
    "from photon import *\n",
    "import numpy as np\n",
    "from numba import typed, types\n",
    "import numba as nb\n",
    "import matplotlib.pyplot as plt\n",
    "import matplotlib.colors as mcolors\n",
    "from plot import *\n",
    "from numpy import genfromtxt\n",
    "from numba.cuda.random import init_xoroshiro128p_states\n",
    "from mpl_toolkits.mplot3d import Axes3D\n",
    "import os\n",
    "from matplotlib import cm\n",
    "from scipy import optimize\n",
    "%matplotlib inline\n",
    "%load_ext autoreload\n",
    "%autoreload 2\n",
    "\n",
    "def fit_func(x, const, a, b, c, d):\n",
    "    return np.power(x, 3) * d + np.power(x, 2) * c + np.power(x, 2) * b + x * a + const\n",
    "\n",
    "gridDim = 1\n",
    "blockDim = 256\n",
    "dim = gridDim * blockDim\n",
    "all_adj_dist = []\n",
    "all_collected = []\n",
    "all_amps = []\n",
    "all_modes = []\n",
    "mode = 1.0\n",
    "iters = 3 * 16\n",
    "iters = 4\n",
    "NNxy = 500\n",
    "NNr = int(NNxy/2)\n",
    "NNz = int(NNxy/2)\n",
    "degree_divs = 64\n",
    "\n",
    "s1 = genfromtxt('s1_pm_64.txt', delimiter=',')\n",
    "s2 = genfromtxt('s2_pm_64.txt', delimiter=',')\n",
    "m11 = genfromtxt('m11_pm_64.txt', delimiter=',')\n",
    "m12 = genfromtxt('m12_pm_64.txt', delimiter=',')\n",
    "temp = 1j * s1[:, 2]\n",
    "temp += s1[:, 1]\n",
    "s1 = temp\n",
    "temp = 1j * s2[:, 2]\n",
    "temp += s2[:, 1]\n",
    "s2 = temp\n",
    "m11 = m11[:, 1]\n",
    "m12 = m12[:, 1]\n",
    "\n",
    "s1 = np.ascontiguousarray(s1)\n",
    "s2 = np.ascontiguousarray(s2)\n",
    "m11 = np.ascontiguousarray(m11)\n",
    "m12 = np.ascontiguousarray(m12)\n",
    "cuda.pinned(s1)\n",
    "cuda.pinned(s2)\n",
    "cuda.pinned(m11)\n",
    "cuda.pinned(m12)\n",
    "\n",
    "co_xy_all = np.zeros((dim,NNxy, NNxy), dtype=np.float32)\n",
    "incoh_cross_xy_all=np.zeros((dim,NNxy, NNxy), dtype=np.float32)\n",
    "cross_xy_all=np.zeros((dim,NNxy, NNxy), dtype=np.float32)\n",
    "\n",
    "co_rz_all = np.zeros((dim, NNr, NNz), dtype=np.float32)\n",
    "incoh_cross_rz_all=np.zeros((dim, NNr, NNz), dtype=np.float32)\n",
    "cross_rz_all=np.zeros((dim, NNr, NNz), dtype=np.float32)\n",
    "\n",
    "co_rz_trad_all = np.zeros((dim, NNr, NNz), dtype=np.float32)\n",
    "ctr=0\n",
    "ctr_trad=0\n",
    "ctr_cross=0\n",
    "#os.environ['NUMBA_DEBUG']='1'\n",
    "#print(cuda.gpus)\n",
    "for i in range(iters):\n",
    "    mode = i % 3\n",
    "    mode = 3\n",
    "\n",
    "    amplitudes = np.ones(dim, dtype=np.float32)\n",
    "    steps = np.zeros(dim, dtype=np.float32)\n",
    "    lengths = np.zeros(dim, dtype=np.float32)\n",
    "    direction_theta = np.ones(dim, dtype=np.float32) * (np.pi / 2)\n",
    "    maxZs = np.zeros(dim, dtype=np.float32)\n",
    "    position_x = np.zeros(dim, dtype=np.float32)\n",
    "    position_y = np.ones(dim, dtype=np.float32) * (1e-8)\n",
    "    polarization = np.ones(dim, dtype=np.float32)\n",
    "    adjusted_dist = np.zeros(dim, dtype=np.float32)\n",
    "    collected = np.zeros(dim, dtype=np.float32)\n",
    "    modes = np.ones(dim, dtype=np.float32) * mode  # polarization mode 0:nonpolarized 1:p-polarized 2:s-polarized\n",
    "\n",
    "    jones = np.zeros((dim, 4), dtype=np.complex64)\n",
    "    # jones=cuda.to_device(jones)\n",
    "    jones_partial = np.zeros((dim, 4), dtype=np.complex64)\n",
    "    U = np.zeros((dim, 3), dtype=np.float32)\n",
    "    W = np.zeros(dim, dtype=np.float32)\n",
    "    mu_as = np.ones(dim, dtype=np.float32) * 0\n",
    "    mu_ss = np.ones(dim, dtype=np.float32) * 1000\n",
    "    scat_events = np.zeros(dim, dtype=np.float32)\n",
    "\n",
    "    co_xy = np.zeros((dim, NNxy, NNxy), dtype=np.float32)\n",
    "    cross_xy = np.zeros((dim, NNxy, NNxy), dtype=np.float32)\n",
    "    incoh_cross_xy = np.zeros((dim, NNxy, NNxy), dtype=np.float32)\n",
    "    co_rz = np.zeros((dim, NNr, NNz), dtype=np.float32)\n",
    "    cross_rz = np.zeros((dim, NNr, NNz), dtype=np.float32)\n",
    "    incoh_cross_rz = np.zeros((dim, NNr, NNz), dtype=np.float32)\n",
    "\n",
    "    co_xy_trad = np.zeros((dim, NNxy, NNxy), dtype=np.float32)\n",
    "    cross_xy_trad = np.zeros((dim, NNxy, NNxy), dtype=np.float32)\n",
    "    incoh_cross_xy_trad = np.zeros((dim, NNxy, NNxy), dtype=np.float32)\n",
    "    co_rz_trad = np.zeros((dim, NNr, NNz), dtype=np.float32)\n",
    "    cross_rz_trad = np.zeros((dim, NNr, NNz), dtype=np.float32)\n",
    "    incoh_cross_rz_trad = np.zeros((dim, NNr, NNz), dtype=np.float32)\n",
    "\n",
    "    position = np.zeros((NNxy, 3), dtype=np.float32)\n",
    "\n",
    "    rng_states = create_xoroshiro128p_states(dim, seed=int(mode + 10 + i))\n",
    "    seed = i*3\n",
    "    print('iteration',i)\n",
    "    # print(rng_states)\n",
    "    # rng_states = init_xoroshiro128p_states(gridDim * blockDim + i + int(mode), seed=int(mode + 1 + i))\n",
    "    process_steps[gridDim, blockDim](seed, amplitudes, direction_theta, position_x, position_y, polarization, steps,\n",
    "                                     lengths,\n",
    "                                     maxZs, rng_states, adjusted_dist, collected, modes, U, W, jones, mu_as, mu_ss,\n",
    "                                     scat_events, jones_partial, co_xy, cross_xy, incoh_cross_xy, co_rz, cross_rz,\n",
    "                                     incoh_cross_rz,\n",
    "                                     co_xy_trad, cross_xy_trad, incoh_cross_xy_trad, co_rz_trad, cross_rz_trad,\n",
    "                                     incoh_cross_rz_trad, position, s1, s2, m11, m12)\n",
    "    # nb.cuda.profile_stop()\n",
    "\n",
    "    all_adj_dist.append(adjusted_dist)\n",
    "    all_collected.append(collected)\n",
    "    all_amps.append(amplitudes)\n",
    "    all_modes.append(modes)\n",
    "    \n",
    "    \n",
    "    if not(np.isnan(co_rz.max())):\n",
    "        co_rz_all += co_rz\n",
    "        co_xy_all += co_xy  \n",
    "        \n",
    "        ctr+=1\n",
    "        print(ctr, 'partial',co_rz.max())\n",
    "    if not(np.isnan(co_rz_trad.max())):\n",
    "        co_rz_trad_all+=co_rz_trad\n",
    "        ctr_trad+=1\n",
    "        print(ctr_trad, 'trad',co_rz_trad.max())\n",
    "        \n",
    "    if not (np.isnan(incoh_cross_xy_all.max())):\n",
    "        incoh_cross_xy_all+=incoh_cross_xy        \n",
    "        \n",
    "        incoh_cross_rz_all+=incoh_cross_rz      \n",
    "        ctr_cross+=1\n",
    "    if not (np.isnan(cross_xy_all.max())):\n",
    "        cross_xy_all+=cross_xy\n",
    "        cross_rz_all+=cross_rz"
   ],
   "metadata": {
    "collapsed": false,
    "pycharm": {
     "name": "#%%\n",
     "is_executing": true
    }
   }
  },
  {
   "cell_type": "code",
   "execution_count": null,
   "outputs": [],
   "source": [
    "import numpy as np \n",
    "import matplotlib.pyplot as plt\n",
    "from mpl_toolkits.mplot3d import Axes3D\n",
    "%matplotlib inline\n",
    "%load_ext autoreload\n",
    "%autoreload 2\n",
    "\n",
    "grid_size = NNr\n",
    "x = np.sum(co_rz_all, axis=0)\n",
    "#print(np.unique(co_rz_all))\n",
    "x[0,0]=0\n",
    "x[grid_size-1,grid_size-1]=0\n",
    "# mean = np.mean(x)\n",
    "# std = np.std(x)\n",
    "# x = (x - mean) / std\n",
    "x/=ctr\n",
    "fig = plt.figure()\n",
    "ax = fig.add_subplot(111, projection='3d')\n",
    "X, Y = np.meshgrid(range(grid_size), range(grid_size))  # `plot_surface` expects `x` and `y` data to be 2D\n",
    "ax.plot_surface(X, Y, x)\n",
    "ax.set_zlim(0, 1)\n",
    "plt.show()\n"
   ],
   "metadata": {
    "collapsed": false,
    "pycharm": {
     "name": "#%%\n",
     "is_executing": false
    }
   }
  },
  {
   "cell_type": "code",
   "execution_count": null,
   "outputs": [],
   "source": [
    "x_clipped=x/x.max()\n",
    "x_clipped=np.clip(x,0,1)\n",
    "plt.imshow(x_clipped)\n",
    "plt.show()"
   ],
   "metadata": {
    "collapsed": false,
    "pycharm": {
     "name": "#%%\n",
     "is_executing": false
    }
   }
  },
  {
   "cell_type": "code",
   "execution_count": null,
   "outputs": [],
   "source": [
    "from scipy import optimize\n",
    "def fit_func(x, const, a, b, c,d,e):\n",
    "    return np.power(x,4)*e+np.power(x, 3) * d + np.power(x, 2) * c + np.power(x, 2) * b + x * a + const\n",
    "pz=np.sum(x[:-1,:-1],axis=0)\n",
    "pz=pz/np.sum(pz)\n",
    "x_data = np.array(list(range(len(pz))))\n",
    "\n",
    "params, params_covariance = optimize.curve_fit(fit_func, x_data, pz, p0=[0,0.01,0.01,0.01,0.01,0.01])\n",
    "#plt.plot(x_data, fit_func(x_data, params[0], params[1], params[2], params[3], params[4], params[5]),label='Fitted function')\n",
    "\n",
    "# for p in co_rz_all[:]:\n",
    "#     p[0,0]=0\n",
    "#     p[NNr-1,NNr-1]=0\n",
    "#     q=np.mean(p,axis=0)\n",
    "#     q=q/np.sum(q)\n",
    "#     plt.plot(q,'o')\n",
    "y=np.sum(co_rz_all,axis=0)\n",
    "y[0,0]=0\n",
    "y[NNr-1,NNr-1]=0\n",
    "y=np.mean(y,axis=0)\n",
    "y=y/np.sum(y)\n",
    "plt.plot(y,'o')\n",
    "#plt.ylim([0,0.1])\n",
    "plt.show()"
   ],
   "metadata": {
    "collapsed": false,
    "pycharm": {
     "name": "#%%\n",
     "is_executing": false
    }
   }
  },
  {
   "cell_type": "code",
   "execution_count": null,
   "outputs": [],
   "source": [
    "x_normal=np.mean(x[:-1,:-1],axis=0)\n",
    "x_normal=x_normal/x_normal.max()\n",
    "x_normal/=np.sum(x_normal)\n",
    "plt.plot(x_normal,'o')\n",
    "plt.show()"
   ],
   "metadata": {
    "collapsed": false,
    "pycharm": {
     "name": "#%%\n",
     "is_executing": false
    }
   }
  },
  {
   "cell_type": "code",
   "execution_count": null,
   "outputs": [],
   "source": [
    "#x_normal=np.mean(x[:-1,:-1])\n",
    "# x_normal=x[:-1,:-1]/x_normal.max()\n",
    "# x_normal/=np.sum(x_normal)\n",
    "# x_normal/=x_normal.max()\n",
    "x_normal = np.clip((x-x.mean())*x.std(),0,1)\n",
    "plt.imshow(x_normal[:NNr//3,:NNr//2],cmap=plt.get_cmap('viridis'))\n",
    "plt.show()"
   ],
   "metadata": {
    "collapsed": false,
    "pycharm": {
     "name": "#%%\n",
     "is_executing": false
    }
   }
  },
  {
   "cell_type": "code",
   "execution_count": null,
   "outputs": [],
   "source": [
    "n=3\n",
    "dx=5e-5\n",
    "NNr = len(cross_rz[0,:,0])\n",
    "x_data=np.array(range(NNr))*dx*1000\n",
    "ret = np.cumsum(np.mean(x,axis=0), dtype=float)\n",
    "ret[n:] = ret[n:] - ret[:-n]\n",
    "ret=ret[n - 1:] / n\n",
    "plt.plot(x_data[n-1:],ret/(NNr*dx*1000))\n",
    "plt.show()\n",
    "print(np.sum(x_data))\n",
    "print(NNr*dx*1000)"
   ],
   "metadata": {
    "collapsed": false,
    "pycharm": {
     "name": "#%%\n",
     "is_executing": false
    }
   }
  },
  {
   "cell_type": "code",
   "execution_count": null,
   "outputs": [],
   "source": [
    "dx=5e-5\n",
    "\n",
    "pz=np.sum(x[:-1,:-1],axis=0)\n",
    "pz=pz/np.sum(pz)\n",
    "x_data = np.array(list(range(len(pz))))\n",
    "y=np.sum(co_rz_all,axis=0)\n",
    "y[0,0]=0\n",
    "y[NNr-1,NNr-1]=0\n",
    "y=np.mean(y,axis=0)\n",
    "y=y/np.sum(y)\n",
    "y/=(dx*1000)\n",
    "xs=np.array(range(len(y)))*(dx*1000)\n",
    "plt.plot(xs,y,'o')\n",
    "#plt.ylim([0,0.1])\n",
    "plt.xlim([0,4])\n",
    "plt.show()"
   ],
   "metadata": {
    "collapsed": false,
    "pycharm": {
     "name": "#%%\n",
     "is_executing": false
    }
   }
  },
  {
   "cell_type": "code",
   "execution_count": null,
   "outputs": [],
   "source": [
    "xx=np.sum(co_xy_all+cross_xy_all)\n",
    "xy=np.sum(co_xy_all)-np.sum(cross_xy_all)\n",
    "a=np.sum(co_xy_all,axis=0)\n",
    "a[0,0]=0\n",
    "a=np.sum(a)\n",
    "b=np.sum(incoh_cross_xy_all,axis=0)\n",
    "where_are_NaNs = np.isnan(b)\n",
    "b[where_are_NaNs] = 0\n",
    "where_are_NaNs = np.isnan(b)\n",
    "b=np.sum(b)\n",
    "#b=np.abs(b)\n",
    "print((a+b)/a/2)"
   ],
   "metadata": {
    "collapsed": false,
    "pycharm": {
     "name": "#%%\n",
     "is_executing": false
    }
   }
  },
  {
   "cell_type": "code",
   "execution_count": null,
   "outputs": [],
   "source": [
    "c=np.sum(co_xy_all,axis=0)\n",
    "d=np.sum(incoh_cross_xy_all,axis=0)\n",
    "print(np.sum(d))"
   ],
   "metadata": {
    "collapsed": false,
    "pycharm": {
     "name": "#%%\n",
     "is_executing": false
    }
   }
  },
  {
   "cell_type": "code",
   "execution_count": null,
   "outputs": [],
   "source": [
    "l=1.465559\n",
    "vv=1.453065\n",
    "hv=1.553473\n",
    "hp=2\n",
    "oh=1.337506\n",
    "vec=[l,vv,hv,hp,oh]\n",
    "for el in vec:\n",
    "    print(el/np.sum(vec))"
   ],
   "metadata": {
    "collapsed": false,
    "pycharm": {
     "name": "#%%\n",
     "is_executing": false
    }
   }
  },
  {
   "cell_type": "code",
   "execution_count": null,
   "outputs": [],
   "source": [
    "a1=np.sum(co_xy_all,axis=0)\n",
    "a2=np.sum(a1[1:,1:])\n",
    "b1=~np.isnan(cross_xy_all)\n",
    "b1=np.sum(b1,axis=0)\n",
    "b2=np.sum(b1[1:,1:])\n",
    "sum=a2+b2+a1[0,0]+b1[0,0]\n",
    "print(a1[0,0]/sum)"
   ],
   "metadata": {
    "collapsed": false,
    "pycharm": {
     "name": "#%%\n",
     "is_executing": false
    }
   }
  },
  {
   "cell_type": "code",
   "execution_count": null,
   "outputs": [],
   "source": [
    "\n"
   ],
   "metadata": {
    "collapsed": false,
    "pycharm": {
     "name": "#%%\n",
     "is_executing": false
    }
   }
  }
 ],
 "metadata": {
  "kernelspec": {
   "display_name": "Python 3",
   "language": "python",
   "name": "python3"
  },
  "language_info": {
   "codemirror_mode": {
    "name": "ipython",
    "version": 3
   },
   "file_extension": ".py",
   "mimetype": "text/x-python",
   "name": "python",
   "nbconvert_exporter": "python",
   "pygments_lexer": "ipython3",
   "version": "3.7.4"
  },
  "pycharm": {
   "stem_cell": {
    "cell_type": "raw",
    "source": [],
    "metadata": {
     "collapsed": false
    }
   }
  }
 },
 "nbformat": 4,
 "nbformat_minor": 2
}