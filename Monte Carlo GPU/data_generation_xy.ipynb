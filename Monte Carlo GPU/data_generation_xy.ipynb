{
 "cells": [
  {
   "cell_type": "code",
   "execution_count": 1,
   "metadata": {
    "collapsed": true,
    "pycharm": {
     "is_executing": false
    }
   },
   "outputs": [
    {
     "name": "stdout",
     "text": [
      "####SIMULATION 1######",
      "\n",
      "\n"
     ],
     "output_type": "stream"
    },
    {
     "data": {
      "text/plain": "HBox(children=(IntProgress(value=0, description='1st loop', max=50, style=ProgressStyle(description_width='ini…",
      "application/vnd.jupyter.widget-view+json": {
       "version_major": 2,
       "version_minor": 0,
       "model_id": "3280c9b42a9e4a32bc60e1208abfae21"
      }
     },
     "metadata": {},
     "output_type": "display_data"
    }
   ],
   "source": [
    "from numba.pycc import CC\n",
    "from photon_xy import *\n",
    "import numpy as np\n",
    "from numba import typed, types\n",
    "import numba as nb\n",
    "import matplotlib.pyplot as plt\n",
    "import matplotlib.colors as mcolors\n",
    "from plot import *\n",
    "from numpy import genfromtxt\n",
    "from numba.cuda.random import init_xoroshiro128p_states\n",
    "from mpl_toolkits.mplot3d import Axes3D\n",
    "import os\n",
    "from matplotlib import cm\n",
    "from scipy import optimize\n",
    "from tqdm.notebook import trange, tqdm\n",
    "import time\n",
    "import os\n",
    "%matplotlib inline\n",
    "%load_ext autoreload\n",
    "%autoreload 2\n",
    "\n",
    "def fit_func(x, const, a, b, c, d):\n",
    "    return np.power(x, 3) * d + np.power(x, 2) * c + np.power(x, 2) * b + x * a + const\n",
    "\n",
    "\n",
    "def make_dir(dir_name):\n",
    "    if not os.path.isdir(dir_name):\n",
    "        os.mkdir(dir_name)\n",
    "\n",
    "\n",
    "gridDim = 1\n",
    "blockDim = 64\n",
    "dim = gridDim * blockDim\n",
    "all_adj_dist = []\n",
    "all_collected = []\n",
    "all_amps = []\n",
    "all_modes = []\n",
    "mode = 1.0\n",
    "iters = 3 * 16\n",
    "iters = 50\n",
    "NNxy = 500\n",
    "NNr = int(NNxy / 2)\n",
    "NNz = int(NNxy / 2)\n",
    "# degree_divs = 64\n",
    "degree_divs = 64\n",
    "n_steps = 20\n",
    "n_sims = 1\n",
    "timers = []\n",
    "dataset_path = 'data/Linear 7'\n",
    "\n",
    "np.random.seed(4)\n",
    "s1 = genfromtxt(f's1_pm_{degree_divs}.txt', delimiter=',')\n",
    "s2 = genfromtxt(f's2_pm_{degree_divs}.txt', delimiter=',')\n",
    "m11 = genfromtxt(f'm11_pm_{degree_divs}.txt', delimiter=',')\n",
    "m12 = genfromtxt(f'm12_pm_{degree_divs}.txt', delimiter=',')\n",
    "temp = 1j * s1[:, 2]\n",
    "temp += s1[:, 1]\n",
    "s1 = temp\n",
    "temp = 1j * s2[:, 2]\n",
    "temp += s2[:, 1]\n",
    "s2 = temp\n",
    "m11 = m11[:, 1]\n",
    "m12 = m12[:, 1]\n",
    "\n",
    "s1 = np.ascontiguousarray(s1)\n",
    "s2 = np.ascontiguousarray(s2)\n",
    "m11 = np.ascontiguousarray(m11)\n",
    "m12 = np.ascontiguousarray(m12)\n",
    "cuda.pinned(s1)\n",
    "cuda.pinned(s2)\n",
    "cuda.pinned(m11)\n",
    "cuda.pinned(m12)\n",
    "\n",
    "co_xy_all = np.zeros((dim, NNxy, NNxy,4), dtype=np.float32)\n",
    "reflection_all = np.zeros((dim), dtype=np.float32)\n",
    "zstokes_all = np.zeros((dim, NNz, 3), dtype=np.float32)\n",
    "\n",
    "ctr = 0\n",
    "ctr_trad = 0\n",
    "ctr_cross = 0\n",
    "\n",
    "make_dir(dataset_path)\n",
    "\n",
    "make_dir(os.path.join(dataset_path, 'reflection'))\n",
    "make_dir(os.path.join(dataset_path, 'zstokes'))\n",
    "\n",
    "incident_degrees = [10, 50, 80, 85, 89]\n",
    "for i in range(n_sims):\n",
    "    n = 1.33\n",
    "    print(f'####SIMULATION {i + 1}######')\n",
    "    # incident_degree=incident_degrees[i]\n",
    "    incident_degree = 0\n",
    "    for j in trange(iters, desc='1st loop'):\n",
    "        time1 = time.time()\n",
    "        mode = i % 3\n",
    "        mode = 3\n",
    "        random_nums = np.random.rand(dim, n_steps * 20)\n",
    "        d_jones = cuda.to_device(np.zeros((dim, 4), dtype=np.complex64))\n",
    "        d_jones_partial = cuda.to_device(np.zeros((dim, 4), dtype=np.complex64))\n",
    "        d_U = cuda.to_device(np.zeros((dim, 3), dtype=np.float32))\n",
    "        d_W = cuda.to_device(np.zeros(dim, dtype=np.float32))\n",
    "        d_mu_as = cuda.to_device(np.ones(dim, dtype=np.float32) * 0)\n",
    "        d_mu_ss = cuda.to_device(np.ones(dim, dtype=np.float32) * np.float(100))\n",
    "        d_scat_events = cuda.to_device(np.zeros(dim, dtype=np.float32))\n",
    "        # d_position = cuda.to_device(np.zeros((NNxy, 3), dtype=np.float32))\n",
    "        d_random_nums = cuda.to_device(random_nums)\n",
    "        d_reflection = cuda.to_device(np.zeros((dim, 2), dtype=np.float32))\n",
    "        d_zstokes = cuda.to_device(np.zeros((dim, NNz, 3), dtype=np.float32))  # co\\incoh cross\\cross\n",
    "        d_co_xy = cuda.to_device(np.zeros((dim, NNxy, NNxy,4), dtype=np.float32))\n",
    "        seed = j\n",
    "\n",
    "        process_steps_linear[gridDim, blockDim](seed, incident_degree, n, d_reflection, d_zstokes, d_random_nums, d_U,\n",
    "                                                d_W, d_jones, d_mu_as, d_mu_ss, d_scat_events, d_jones_partial,  s1, s2, m11, m12,d_co_xy)\n",
    "\n",
    "        # position = d_position.copy_to_host()\n",
    "\n",
    "        reflections = d_reflection.copy_to_host()\n",
    "        zstokes = d_zstokes.copy_to_host()\n",
    "        co_xy=d_co_xy.copy_to_host()\n",
    "        \n",
    "        # co_xy[co_xy[:,:,:,3]==0]=1\n",
    "        # co_xy[:,:,:,0]/=co_xy[:,:,:,3]\n",
    "        # co_xy[:,:,:,1]/=co_xy[:,:,:,3]\n",
    "        # co_xy[:,:,:,2]/=co_xy[:,:,:,3]\n",
    "        co_xy_all+=co_xy\n",
    "        reflections[reflections[:, 0] == 0] = 1\n",
    "        reflection_all += reflections[:, 1] / reflections[:, 0]\n",
    "        zstokes_all[:, :, 0] += zstokes[:, :, 0]/ reflections[:, 0, np.newaxis]\n",
    "        zstokes_all[:, :, 1] += zstokes[:, :, 1]/ reflections[:, 0, np.newaxis]       \n",
    "        zstokes_all[:, :, 2] += zstokes[:, :, 2]/ reflections[:, 0, np.newaxis]\n",
    "\n",
    "        time2 = time.time()\n",
    "        timers.append(time2 - time1)\n",
    "        # print(j)\n",
    "\n",
    "    # vars = [np.mean(reflection_all,axis=0), np.mean(zstokes_all,axis=0)]\n",
    "    # folders = ['reflection', 'zstokes']\n",
    "    # var_names = [f'reflection_{incident_degree}.npy', f'zstokes_{incident_degree}.npy']\n",
    "    # full_paths = []\n",
    "    # for i in range(2):\n",
    "    #     full_paths.append(os.path.join(dataset_path, folders[i], var_names[i]))\n",
    "    # i = 0\n",
    "    # for var, path in zip(vars, full_paths):\n",
    "    #     np.save(path, var)\n",
    "    #     print('saveing', folders[i])\n",
    "    #     i += 1\n",
    "    # with open(os.path.join(dataset_path, 'params.txt'), 'a') as f:\n",
    "    #     f.writelines(f'{i},{n}\\n')\n"
   ]
  },
  {
   "cell_type": "code",
   "execution_count": 3,
   "outputs": [
    {
     "data": {
      "text/plain": "<Figure size 432x288 with 1 Axes>",
      "image/png": "[encoded data removed]"
     },
     "metadata": {
      "needs_background": "light"
     },
     "output_type": "display_data"
    }
   ],
   "source": [
    "import matplotlib.pyplot as plt\n",
    "\n",
    "\n",
    "window=30\n",
    "x=np.mean(co_xy_all,axis=0)[250-window+1:250+window,250-window+1:250+window,0]\n",
    "x[0,0]=0\n",
    "# x[NNxy-1,NNxy-1]=0\n",
    "# x[NNxy-2,NNxy-2]=0\n",
    "# \n",
    "x=x/x.max()\n",
    "x[x==1]=0.5\n",
    "x=(x-x.mean())/x.std()\n",
    "x=x/x.max()\n",
    "plt.imshow(x)\n",
    "# plt.imshow(x[3:-3,3:-3])\n",
    "plt.show()\n"
   ],
   "metadata": {
    "collapsed": false,
    "pycharm": {
     "name": "#%%\n",
     "is_executing": false
    }
   }
  },
  {
   "cell_type": "code",
   "execution_count": 5,
   "outputs": [
    {
     "name": "stderr",
     "text": [
      "C:\\Users\\Ali\\Anaconda3\\lib\\site-packages\\ipykernel_launcher.py:1: RuntimeWarning: divide by zero encountered in true_divide\n  \"\"\"Entry point for launching an IPython kernel.\n"
     ],
     "output_type": "stream"
    },
    {
     "data": {
      "text/plain": "<Figure size 432x288 with 1 Axes>",
      "image/png": "[encoded data removed]"
     },
     "metadata": {
      "needs_background": "light"
     },
     "output_type": "display_data"
    }
   ],
   "source": [
    "plt.plot(np.sum(zstokes_all[:,:,2],axis=0)/(np.sum(zstokes_all[:,:,1],axis=0)))\n",
    "plt.show()\n"
   ],
   "metadata": {
    "collapsed": false,
    "pycharm": {
     "name": "#%%\n",
     "is_executing": false
    }
   }
  },
  {
   "cell_type": "code",
   "execution_count": 6,
   "outputs": [
    {
     "data": {
      "text/plain": "<Figure size 432x288 with 1 Axes>",
      "image/png": "[encoded data removed]"
     },
     "metadata": {
      "needs_background": "light"
     },
     "output_type": "display_data"
    }
   ],
   "source": [
    "plt.plot(np.sum(zstokes_all[:,:,2],axis=0)[1:-1])\n",
    "plt.show()\n",
    "\n",
    "\n"
   ],
   "metadata": {
    "collapsed": false,
    "pycharm": {
     "name": "#%%\n",
     "is_executing": false
    }
   }
  },
  {
   "cell_type": "code",
   "execution_count": 7,
   "outputs": [
    {
     "data": {
      "text/plain": "<Figure size 432x288 with 1 Axes>",
      "image/png": "[encoded data removed]"
     },
     "metadata": {
      "needs_background": "light"
     },
     "output_type": "display_data"
    }
   ],
   "source": [
    "window=40\n",
    "a=np.mean(co_xy_all,axis=0)[250-window+1:250+window,250-window+1:250+window,0]\n",
    "b=np.mean(co_xy_all,axis=0)[250-window+1:250+window,250-window+1:250+window,1]-1\n",
    "c=np.mean(co_xy_all,axis=0)[250-window+1:250+window,250-window+1:250+window,2]\n",
    "d=np.mean(co_xy_all,axis=0)[250-window+1:250+window,250-window+1:250+window,3]\n",
    "a[a==0]=1\n",
    "x=(b**2+c**2+d**2)/a**2\n",
    "x[0,0]=0\n",
    "# x[NNxy-1,NNxy-1]=0\n",
    "# x[NNxy-2,NNxy-2]=0\n",
    "# \n",
    "x=x/x.max()\n",
    "x[x==1]=0.5\n",
    "x=(x-x.mean())/x.std()\n",
    "x=x/x.max()\n",
    "plt.imshow(x)\n",
    "# plt.imshow(x[3:-3,3:-3])\n",
    "plt.show()\n"
   ],
   "metadata": {
    "collapsed": false,
    "pycharm": {
     "name": "#%%\n",
     "is_executing": false
    }
   }
  },
  {
   "cell_type": "code",
   "execution_count": null,
   "outputs": [],
   "source": [
    "\n"
   ],
   "metadata": {
    "collapsed": false,
    "pycharm": {
     "name": "#%%\n"
    }
   }
  }
 ],
 "metadata": {
  "kernelspec": {
   "display_name": "Python 3",
   "language": "python",
   "name": "python3"
  },
  "language_info": {
   "codemirror_mode": {
    "name": "ipython",
    "version": 2
   },
   "file_extension": ".py",
   "mimetype": "text/x-python",
   "name": "python",
   "nbconvert_exporter": "python",
   "pygments_lexer": "ipython2",
   "version": "2.7.6"
  },
  "pycharm": {
   "stem_cell": {
    "cell_type": "raw",
    "source": [],
    "metadata": {
     "collapsed": false
    }
   }
  }
 },
 "nbformat": 4,
 "nbformat_minor": 0
}